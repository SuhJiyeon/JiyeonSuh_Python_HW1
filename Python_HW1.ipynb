{
 "cells": [
  {
   "cell_type": "code",
   "execution_count": 2,
   "id": "f05ec513",
   "metadata": {},
   "outputs": [
    {
     "name": "stdout",
     "output_type": "stream",
     "text": [
      "선택하세요(1:추가, 2:삭제, 3:종료)-->1\n",
      "추가할 데이터-->('다현',200)\n",
      "[\"('다현',200)\"]\n",
      "선택하세요(1:추가, 2:삭제, 3:종료)-->1\n",
      "추가할 데이터-->('정연',150)\n",
      "[\"('다현',200)\", \"('정연',150)\"]\n",
      "선택하세요(1:추가, 2:삭제, 3:종료)-->1\n",
      "추가할 데이터-->('모모',170)\n",
      "[\"('다현',200)\", \"('정연',150)\", \"('모모',170)\"]\n",
      "선택하세요(1:추가, 2:삭제, 3:종료)-->2\n",
      "삭제할 순서-->2\n"
     ]
    },
    {
     "ename": "NameError",
     "evalue": "name 'delete_data' is not defined",
     "output_type": "error",
     "traceback": [
      "\u001b[1;31m---------------------------------------------------------------------------\u001b[0m",
      "\u001b[1;31mNameError\u001b[0m                                 Traceback (most recent call last)",
      "Input \u001b[1;32mIn [2]\u001b[0m, in \u001b[0;36m<cell line: 44>\u001b[1;34m()\u001b[0m\n\u001b[0;32m     54\u001b[0m \u001b[38;5;28;01melif\u001b[39;00m(select\u001b[38;5;241m==\u001b[39m\u001b[38;5;241m2\u001b[39m):\n\u001b[0;32m     55\u001b[0m     pos\u001b[38;5;241m=\u001b[39m\u001b[38;5;28mint\u001b[39m(\u001b[38;5;28minput\u001b[39m(\u001b[38;5;124m\"\u001b[39m\u001b[38;5;124m삭제할 순서-->\u001b[39m\u001b[38;5;124m\"\u001b[39m))\n\u001b[1;32m---> 56\u001b[0m     \u001b[43mdelete_data\u001b[49m(pos)\n\u001b[0;32m     57\u001b[0m     \u001b[38;5;28mprint\u001b[39m(katok)\n\u001b[0;32m     58\u001b[0m \u001b[38;5;28;01melif\u001b[39;00m (select\u001b[38;5;241m==\u001b[39m\u001b[38;5;241m3\u001b[39m):\n",
      "\u001b[1;31mNameError\u001b[0m: name 'delete_data' is not defined"
     ]
    }
   ],
   "source": [
    "katok=[('다현',200),('정연',150),('쯔위',90),('사나',30),('지효',15)]\n",
    "\n",
    "def add_data(friend):\n",
    "    \n",
    "    katok.append(None)\n",
    "    kLen=len(katok)\n",
    "    katok[kLen-1]=friend\n",
    "    \n",
    "    \n",
    "def inset_data(position,friend):\n",
    "    \n",
    "    if position<0 or position>len(katok):\n",
    "        print(\"데이터 삽입 범위를 벗어났습니다.\")\n",
    "        return\n",
    "    \n",
    "    katok.append(None)\n",
    "    kLen=len(katok)\n",
    "    \n",
    "    for i in range(kLen-1,position,-1):\n",
    "        katok[i]=katok[i-1]\n",
    "        katok[i-1]=None\n",
    "        \n",
    "    katok[position]=friend\n",
    "    \n",
    "    \n",
    "def insert_data(position):\n",
    "    \n",
    "    if position<0 or position>len(katok):\n",
    "        print(\"삭제할 데이터가 존재하지 않습니다.\")\n",
    "        return\n",
    "    \n",
    "    kLen=len(katok)\n",
    "    katok[position]=None\n",
    "    \n",
    "    for i in range(position+1,kLen):\n",
    "        katok[i-1]=katok[i]\n",
    "        katok[i]=None\n",
    "        \n",
    "    del(katok[kLen-1])\n",
    "    \n",
    "katok=[]\n",
    "select=-1\n",
    "\n",
    "if __name__==\"__main__\":\n",
    "    \n",
    "    while (select !=3):\n",
    "        \n",
    "        select =int(input(\"선택하세요(1:추가, 2:삭제, 3:종료)-->\"))\n",
    "        \n",
    "        if(select ==1):\n",
    "            data=input(\"추가할 데이터-->\")\n",
    "            add_data(data)\n",
    "            print(katok)\n",
    "        elif(select==2):\n",
    "            pos=int(input(\"삭제할 순서-->\"))\n",
    "            delete_data(pos)\n",
    "            print(katok)\n",
    "        elif (select==3):\n",
    "            print(katok)\n",
    "            exit\n",
    "        else:\n",
    "            print(\"1~3중 하나를 입력하시오.\")\n",
    "            continue"
   ]
  },
  {
   "cell_type": "code",
   "execution_count": null,
   "id": "2fd4530e",
   "metadata": {},
   "outputs": [],
   "source": []
  }
 ],
 "metadata": {
  "kernelspec": {
   "display_name": "Python 3 (ipykernel)",
   "language": "python",
   "name": "python3"
  },
  "language_info": {
   "codemirror_mode": {
    "name": "ipython",
    "version": 3
   },
   "file_extension": ".py",
   "mimetype": "text/x-python",
   "name": "python",
   "nbconvert_exporter": "python",
   "pygments_lexer": "ipython3",
   "version": "3.9.12"
  }
 },
 "nbformat": 4,
 "nbformat_minor": 5
}
